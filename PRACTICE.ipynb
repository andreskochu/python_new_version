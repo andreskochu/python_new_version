{
  "nbformat": 4,
  "nbformat_minor": 0,
  "metadata": {
    "colab": {
      "name": "PRACTICE",
      "provenance": [],
      "authorship_tag": "ABX9TyPADLzUChCT9FvGXERJUIEm",
      "include_colab_link": true
    },
    "kernelspec": {
      "name": "python3",
      "display_name": "Python 3"
    },
    "language_info": {
      "name": "python"
    }
  },
  "cells": [
    {
      "cell_type": "markdown",
      "metadata": {
        "id": "view-in-github",
        "colab_type": "text"
      },
      "source": [
        "<a href=\"https://colab.research.google.com/github/andreskochu/python_new_version/blob/main/PRACTICE.ipynb\" target=\"_parent\"><img src=\"https://colab.research.google.com/assets/colab-badge.svg\" alt=\"Open In Colab\"/></a>"
      ]
    },
    {
      "cell_type": "markdown",
      "metadata": {
        "id": "jNMhhOdQ1cad"
      },
      "source": [
        "Solicitar al usuario un número de cliente. Si el número es el 1000, imprimir \"Ganaste un premio\"."
      ]
    },
    {
      "cell_type": "code",
      "metadata": {
        "colab": {
          "base_uri": "https://localhost:8080/"
        },
        "id": "vJA1mi9d1kvO",
        "outputId": "3eb2038c-8288-4f0f-e14e-0720266f5ba0"
      },
      "source": [
        "print(\" Ingresa un numero:\")\n",
        "numero = int(input())\n",
        "if numero == 1000:\n",
        "  print(\"Ganaste un premio!\")\n"
      ],
      "execution_count": 3,
      "outputs": [
        {
          "output_type": "stream",
          "text": [
            " Ingresa un numero:\n",
            "1000\n",
            "Ganaste un premio!\n"
          ],
          "name": "stdout"
        }
      ]
    },
    {
      "cell_type": "markdown",
      "metadata": {
        "id": "7UQoRCjK7o4W"
      },
      "source": [
        "Solicitar al usuario que ingrese dos números y mostrar cuál de los dos es menor. No considerar el caso en que ambos números son iguales."
      ]
    },
    {
      "cell_type": "code",
      "metadata": {
        "colab": {
          "base_uri": "https://localhost:8080/"
        },
        "id": "z8X20QL47qTE",
        "outputId": "966a2076-1685-4fc1-a26b-47b54e1df9b0"
      },
      "source": [
        "print(\"Ingresa dos valores:\")\n",
        "var_1 = int(input())\n",
        "var_2 = int(input())\n",
        "\n",
        "if var_1 < var_2 :\n",
        "  print(var_1)\n",
        "else:\n",
        "  print(var_2)\n"
      ],
      "execution_count": 12,
      "outputs": [
        {
          "output_type": "stream",
          "text": [
            "Ingresa dos valores:\n",
            "5\n",
            "5\n",
            "5\n"
          ],
          "name": "stdout"
        }
      ]
    },
    {
      "cell_type": "markdown",
      "metadata": {
        "id": "GBpr8QtE-ZI1"
      },
      "source": [
        "Solicitar al usuario que ingrese dos números y mostrar cuál de los dos es menor. Considerar el caso en que ambos números son iguales"
      ]
    },
    {
      "cell_type": "code",
      "metadata": {
        "colab": {
          "base_uri": "https://localhost:8080/"
        },
        "id": "MwBO2-fa-al3",
        "outputId": "7e4a2b61-aaaa-4210-eab3-2b110efb4c06"
      },
      "source": [
        "print(\"Ingresa dos valores:\")\n",
        "var_1 = int(input())\n",
        "var_2 = int(input())\n",
        "\n",
        "if var_1 <  var_2 :\n",
        "  print(var_1)\n",
        "elif var_2 < var_1:\n",
        "  print(var_2) \n",
        "else:\n",
        "  print(f\"{var_1} y {var_2} son iguales\")"
      ],
      "execution_count": 14,
      "outputs": [
        {
          "output_type": "stream",
          "text": [
            "Ingresa dos valores:\n",
            "4\n",
            "4\n",
            "4 y 4 son iguales\n"
          ],
          "name": "stdout"
        }
      ]
    }
  ]
}