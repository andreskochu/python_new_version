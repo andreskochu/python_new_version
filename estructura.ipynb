{
  "nbformat": 4,
  "nbformat_minor": 0,
  "metadata": {
    "kernelspec": {
      "display_name": "Python 3",
      "language": "python",
      "name": "python3"
    },
    "language_info": {
      "codemirror_mode": {
        "name": "ipython",
        "version": 3
      },
      "file_extension": ".py",
      "mimetype": "text/x-python",
      "name": "python",
      "nbconvert_exporter": "python",
      "pygments_lexer": "ipython3",
      "version": "3.8.3"
    },
    "colab": {
      "name": "Copy of estructuras_de_control_de_flujo.ipynb",
      "provenance": [],
      "collapsed_sections": []
    }
  },
  "cells": [
    {
      "cell_type": "markdown",
      "metadata": {
        "id": "mZL1ab44wJvQ"
      },
      "source": [
        "## Reto 5: Estructuras de control de flujo\n",
        "\n",
        "### 1. Objetivos:\n",
        "    - Entender el funcionamiento de las estructuras de control de flujo a través de un reto\n",
        " \n",
        "---\n",
        "    \n",
        "### 2. Desarrollo:"
      ]
    },
    {
      "cell_type": "markdown",
      "metadata": {
        "id": "OygRARTXwJve"
      },
      "source": [
        "#### 1. Comparaciones numéricas\n",
        "\n",
        "Vamos a imaginar que estamos analizando un conjunto de datos que contiene las ventas anuales en pesos de unos vendedores que trabajan en nuestra empresa. Obtenemos el total de ventas anuales en pesos y lo tenemos asignado a la variable `ventas_anuales_totales`. Escribe una estructura de control que nos diga de cuánto va a ser el bono de nuestro empleado.\n",
        "\n",
        "Si las ventas son mayores a `$`1,000,000 el bono será de 20% del sueldo; si son entre `$`700,000 y `$`1,000,000 el bono será de 15% del sueldo; entre `$`400,000 y `$`700,000 el bono será de 10% del sueldo; entre `$`100,00 y 400,000 el bono será de 5% del sueldo; y debajo de `$`100,000 el bono será del 1% del sueldo.\n",
        "\n",
        "Escribe tu estructura de control y, por ahora (más adelante tendremos más herramientas para hacer esto más interesante) imprime una string que diga de cuánto va a ser el bono.\n",
        "\n",
        "> Reto opcional: Agrega una variable `sueldo` que sea el sueldo de tu empleado y agrégale el porcentaje de bono a esa variable dependiendo de la condición que se cumpla. Después hasta el final imprime una string interpolada que diga algo como \"Felicidades, tu sueldo es x; tu bono es de x; y el total de sueldo con el bono incluido es de x\". ¡Para que esto funcione también debes de agregar una variable donde guardes la cantidad del bono!"
      ]
    },
    {
      "cell_type": "code",
      "metadata": {
        "id": "t_cHNPpPxQkY"
      },
      "source": [
        "ventas_totales_anuales = 1450000\n",
        "sueldo = 45000\n",
        "bono = 0"
      ],
      "execution_count": null,
      "outputs": []
    },
    {
      "cell_type": "code",
      "metadata": {
        "id": "OpIYtvJVxgmQ",
        "colab": {
          "base_uri": "https://localhost:8080/"
        },
        "outputId": "0adf1543-def4-4bf8-87c6-63fc7f0ed4cc"
      },
      "source": [
        "if ventas_totales_anuales > 1000000:\n",
        "  bono = sueldo * 0.20\n",
        "elif ventas_totales_anuales > 700000 or ventas_totales_anuales < 1000000:\n",
        "  bono = sueldo * 0.15\n",
        "elif ventas_totales_anuales > 400000 or  ventas_totales_anuales < 700000:\n",
        "  bono = sueldo * 0.10\n",
        "elif ventas_totales_anuales > 100000 or  ventas_totales_anuales < 400000:\n",
        "  bono = sueldo * 0.05\n",
        "else:\n",
        "    bono = sueldo * 0.01\n",
        "print(f\"felicidades tu sueldo es {sueldo} y tu bono es {bono} y el total de tu sueldo con el bono incluido es de {sueldo + bono}\")"
      ],
      "execution_count": null,
      "outputs": [
        {
          "output_type": "stream",
          "text": [
            "felicidades tu sueldo es 45000 y tu bono es 9000.0 y el total de tu sueldo con el bono incluido es de 54000.0\n"
          ],
          "name": "stdout"
        }
      ]
    },
    {
      "cell_type": "code",
      "metadata": {
        "id": "FtYLtJ2HwJvg"
      },
      "source": [
        "ventas_anuales_totales = 1000000 # Este valor lo puedes cambiar para obtener diferentes resultados\n",
        "\n",
        "# OPCIONAL\n",
        "# sueldo = escribe aquí el suelo de tu empleado"
      ],
      "execution_count": null,
      "outputs": []
    },
    {
      "cell_type": "code",
      "metadata": {
        "id": "tRieSmeEwJvk"
      },
      "source": [
        "# Escribe aquí tu código\n",
        "# ...\n",
        "# ..."
      ],
      "execution_count": null,
      "outputs": []
    },
    {
      "cell_type": "code",
      "metadata": {
        "id": "QYBgbnx6wJvl"
      },
      "source": [
        ""
      ],
      "execution_count": null,
      "outputs": []
    },
    {
      "cell_type": "code",
      "metadata": {
        "id": "25Q2pMgZ3Jdz",
        "colab": {
          "base_uri": "https://localhost:8080/"
        },
        "outputId": "48ca32a5-6c89-43ce-9ecb-62c6db903c8a"
      },
      "source": [
        "print(f\"mama mate un caiman\")"
      ],
      "execution_count": null,
      "outputs": [
        {
          "output_type": "stream",
          "text": [
            "mama mate un caiman\n"
          ],
          "name": "stdout"
        }
      ]
    }
  ]
}